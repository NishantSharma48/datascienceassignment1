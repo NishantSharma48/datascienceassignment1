{
 "cells": [
  {
   "cell_type": "code",
   "execution_count": 3,
   "id": "486cc6b4-41df-4155-a576-60e162b2475e",
   "metadata": {},
   "outputs": [],
   "source": [
    "a=\"ABCD\"\n",
    "b=[1,2,'abc',True]\n",
    "c=7.5\n",
    "d=(1,2,3,'abc')"
   ]
  },
  {
   "cell_type": "code",
   "execution_count": 5,
   "id": "d361e368-ccc6-4d8e-8bd9-5172b87d27f5",
   "metadata": {},
   "outputs": [
    {
     "data": {
      "text/plain": [
       "str"
      ]
     },
     "execution_count": 5,
     "metadata": {},
     "output_type": "execute_result"
    }
   ],
   "source": [
    "var1 = ' '\n",
    "type(var1)"
   ]
  },
  {
   "cell_type": "code",
   "execution_count": 6,
   "id": "3621363f-8fbf-4175-b2a9-2cb482ac153d",
   "metadata": {},
   "outputs": [
    {
     "data": {
      "text/plain": [
       "str"
      ]
     },
     "execution_count": 6,
     "metadata": {},
     "output_type": "execute_result"
    }
   ],
   "source": [
    "var2 = '[ DS , ML , Python]'\n",
    "type(var2)"
   ]
  },
  {
   "cell_type": "code",
   "execution_count": 7,
   "id": "51271e95-e8c0-47e7-ac23-288473be1601",
   "metadata": {},
   "outputs": [
    {
     "data": {
      "text/plain": [
       "list"
      ]
     },
     "execution_count": 7,
     "metadata": {},
     "output_type": "execute_result"
    }
   ],
   "source": [
    "var3 = [ 'DS' , 'ML' , 'Python' ]\n",
    "type(var3)"
   ]
  },
  {
   "cell_type": "code",
   "execution_count": 8,
   "id": "e749508b-ce47-4f67-8e3e-5ec5ef1918cc",
   "metadata": {},
   "outputs": [
    {
     "data": {
      "text/plain": [
       "int"
      ]
     },
     "execution_count": 8,
     "metadata": {},
     "output_type": "execute_result"
    }
   ],
   "source": [
    "var4=1\n",
    "type(var4)"
   ]
  },
  {
   "cell_type": "code",
   "execution_count": 9,
   "id": "03b11482-7838-4e32-83f1-d7e470188d05",
   "metadata": {},
   "outputs": [
    {
     "name": "stdout",
     "output_type": "stream",
     "text": [
      "2.5\n",
      "1\n",
      "2\n",
      "25\n"
     ]
    }
   ],
   "source": [
    "a=5\n",
    "b=2\n",
    "print(a/b)\n",
    "print(a%b)\n",
    "print(a//b)\n",
    "print(a**b)"
   ]
  },
  {
   "cell_type": "code",
   "execution_count": 10,
   "id": "169453cc-eb3d-4aa1-b849-613427494eed",
   "metadata": {},
   "outputs": [
    {
     "name": "stdout",
     "output_type": "stream",
     "text": [
      "1\n",
      "True\n",
      "abcd\n",
      "2.5\n",
      "9\n",
      "bcda\n",
      "1\n",
      "2\n",
      "3\n",
      "4\n"
     ]
    }
   ],
   "source": [
    "li=[1,True,'abcd',2.5,9,'bcda',1,2,3,4]\n",
    "for i in li:\n",
    "    print(i)"
   ]
  },
  {
   "cell_type": "code",
   "execution_count": 13,
   "id": "74a58c4f-e5b2-4519-bc30-2c2d57ff8e0d",
   "metadata": {},
   "outputs": [
    {
     "name": "stdin",
     "output_type": "stream",
     "text": [
      "Enter A 4\n",
      "Enter B 2\n"
     ]
    },
    {
     "name": "stdout",
     "output_type": "stream",
     "text": [
      "2\n"
     ]
    }
   ],
   "source": [
    "A=int(input('Enter A'))\n",
    "B= int(input('Enter B'))\n",
    "count = 0  # Initialize the count to 0\n",
    "\n",
    "while A % B == 0:\n",
    "    A = A // B  # Divide A by B\n",
    "    count += 1  # Increment the count\n",
    "\n",
    "print(count)"
   ]
  },
  {
   "cell_type": "code",
   "execution_count": 17,
   "id": "fd6d75b0-2617-4d9a-a808-ba8faec49642",
   "metadata": {},
   "outputs": [
    {
     "name": "stdout",
     "output_type": "stream",
     "text": [
      "0is Divisible by 3\n",
      "1is Not divisible by 3\n",
      "2is Not divisible by 3\n",
      "3is Divisible by 3\n",
      "4is Not divisible by 3\n",
      "5is Not divisible by 3\n",
      "6is Divisible by 3\n",
      "7is Not divisible by 3\n",
      "8is Not divisible by 3\n",
      "9is Divisible by 3\n",
      "10is Not divisible by 3\n",
      "11is Not divisible by 3\n",
      "12is Divisible by 3\n",
      "13is Not divisible by 3\n",
      "14is Not divisible by 3\n",
      "15is Divisible by 3\n",
      "16is Not divisible by 3\n",
      "17is Not divisible by 3\n",
      "18is Divisible by 3\n",
      "19is Not divisible by 3\n",
      "20is Not divisible by 3\n",
      "21is Divisible by 3\n",
      "22is Not divisible by 3\n",
      "23is Not divisible by 3\n",
      "24is Divisible by 3\n"
     ]
    }
   ],
   "source": [
    "li=list(range(25))\n",
    "for i in li:\n",
    "    if i%3==0:\n",
    "        print(f\"{i}is Divisible by 3\")\n",
    "    else:\n",
    "        print(f\"{i}is Not divisible by 3\")"
   ]
  },
  {
   "cell_type": "markdown",
   "id": "785356ef-c108-4d84-97e8-de6f3786fa38",
   "metadata": {},
   "source": [
    "Mutable datatypes are changed by changing a value at a particular index whereas immutable datatypes cannot be changed by changing value at a particular index."
   ]
  },
  {
   "cell_type": "code",
   "execution_count": 18,
   "id": "a8556a42-b8b3-4009-9c8f-9feca7171fcb",
   "metadata": {},
   "outputs": [
    {
     "ename": "NameError",
     "evalue": "name 'e' is not defined",
     "output_type": "error",
     "traceback": [
      "\u001b[0;31m---------------------------------------------------------------------------\u001b[0m",
      "\u001b[0;31mNameError\u001b[0m                                 Traceback (most recent call last)",
      "Cell \u001b[0;32mIn[18], line 2\u001b[0m\n\u001b[1;32m      1\u001b[0m s\u001b[38;5;241m=\u001b[39m\u001b[38;5;124m\"\u001b[39m\u001b[38;5;124mabcd\u001b[39m\u001b[38;5;124m\"\u001b[39m\n\u001b[0;32m----> 2\u001b[0m s[\u001b[38;5;241m1\u001b[39m]\u001b[38;5;241m=\u001b[39m\u001b[43me\u001b[49m\n",
      "\u001b[0;31mNameError\u001b[0m: name 'e' is not defined"
     ]
    }
   ],
   "source": [
    "s=\"abcd\"\n",
    "s[1]=e"
   ]
  },
  {
   "cell_type": "code",
   "execution_count": null,
   "id": "0ffd35b1-bef9-4380-a9c0-959b5cddb1a0",
   "metadata": {},
   "outputs": [],
   "source": [
    "li=[1,2,\"abc\",2.5,True]\n",
    "li[4]=F"
   ]
  }
 ],
 "metadata": {
  "kernelspec": {
   "display_name": "Python 3 (ipykernel)",
   "language": "python",
   "name": "python3"
  },
  "language_info": {
   "codemirror_mode": {
    "name": "ipython",
    "version": 3
   },
   "file_extension": ".py",
   "mimetype": "text/x-python",
   "name": "python",
   "nbconvert_exporter": "python",
   "pygments_lexer": "ipython3",
   "version": "3.10.8"
  }
 },
 "nbformat": 4,
 "nbformat_minor": 5
}
