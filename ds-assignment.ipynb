{
 "cells": [
  {
   "cell_type": "markdown",
   "id": "70d60edd-1503-4647-9cd4-007beebbd926",
   "metadata": {},
   "source": [
    "Q1. How do you comment code in Python? What are the different types of comments?\n",
    "Ans. We can comment code in python by using a # for single line comment or by using a ''' ''' for multiline comment.\n",
    "Two types of comments are there in python i.e. single line comment and multi line comment.\n",
    "Example:- "
   ]
  },
  {
   "cell_type": "code",
   "execution_count": 1,
   "id": "bf2d8ebe-28c8-4474-a6b1-0d6dae60e356",
   "metadata": {},
   "outputs": [
    {
     "data": {
      "text/plain": [
       "'this \\nis  \\na \\nmulti-line\\ncomment'"
      ]
     },
     "execution_count": 1,
     "metadata": {},
     "output_type": "execute_result"
    }
   ],
   "source": [
    "# This is a single line comment\n",
    "'''this \n",
    "is  \n",
    "a \n",
    "multi-line\n",
    "comment'''"
   ]
  },
  {
   "cell_type": "markdown",
   "id": "fe6e85f7-4e0c-4cd0-b960-4188c25045f1",
   "metadata": {},
   "source": [
    "Q2. What are variables in Python? How do you declare and assign values to variables?\n",
    "Ans. Variables are used to store data values. They act as containers that can hold different types of data, such as numbers, strings, lists, or even complex objects. Variables allow you to refer to these values by a specific name.\n",
    "To declare a variable in Python, you simply choose a name for the variable and use the assignment operator (=) to assign a value to it. Here's the general syntax: variable_name = value.\n",
    "Example:-"
   ]
  },
  {
   "cell_type": "code",
   "execution_count": 2,
   "id": "7d3c3927-050d-494f-9098-62675c889858",
   "metadata": {},
   "outputs": [],
   "source": [
    "age = 25\n",
    "name = \"John Doe\"\n",
    "pi = 3.14\n",
    "is_valid = True"
   ]
  },
  {
   "cell_type": "markdown",
   "id": "9106e528-e094-4062-8a27-4ec2a37b854e",
   "metadata": {},
   "source": [
    "Q3. How do you convert one data type to another in Python?\n",
    "Ans.We can convert one data type to another using type conversion functions."
   ]
  },
  {
   "cell_type": "markdown",
   "id": "24e440bb-21c1-4565-95c6-2973e57082d8",
   "metadata": {},
   "source": [
    "Q4. How do you write and execute a Python script from the command line?\n",
    "Ans.1. Open a text editor and create a new file. For example, let's create a file named script.py.\n",
    "    2.In the text editor, write your Python code in the file. For example, you can write a simple \"Hello, World!\" program.\n",
    "    3. Save the file with a .py extension. In this case, save the file as script.py.\n",
    "    4.Open the command line or terminal on your computer.\n",
    "    5.Navigate to the directory where the Python script is saved. You can use the cd command to change directories.\n",
    "    6.Press Enter, and the Python script will be executed. In this case, it will print \"Hello, World!\" to the command line."
   ]
  },
  {
   "cell_type": "markdown",
   "id": "5404c485-10b6-4f69-a107-dd7cf51ca384",
   "metadata": {},
   "source": [
    "Q5. Given a list my_list = [1, 2, 3, 4, 5], write the code to slice the list and obtain the sub-list [2, 3]."
   ]
  },
  {
   "cell_type": "code",
   "execution_count": 3,
   "id": "8dbb9baa-cbd3-424d-bd70-9d8f5f16974b",
   "metadata": {},
   "outputs": [
    {
     "data": {
      "text/plain": [
       "[2, 3]"
      ]
     },
     "execution_count": 3,
     "metadata": {},
     "output_type": "execute_result"
    }
   ],
   "source": [
    "my_list = [1, 2, 3, 4, 5]\n",
    "my_list[1:3]"
   ]
  },
  {
   "cell_type": "markdown",
   "id": "4964db1f-0064-4867-a326-ecbaef84434a",
   "metadata": {},
   "source": [
    "Q6. What is a complex number in mathematics, and how is it represented in Python?\n",
    "Ans. In Mathematics, Complex number contains two parts one is real another one is imaginary and is represented as x+iy.\n",
    "     In python, Complex number is represented as a+bj.\n",
    "     Example:-"
   ]
  },
  {
   "cell_type": "code",
   "execution_count": 4,
   "id": "f340409f-7e80-4558-8d1a-308142c3120c",
   "metadata": {},
   "outputs": [
    {
     "data": {
      "text/plain": [
       "complex"
      ]
     },
     "execution_count": 4,
     "metadata": {},
     "output_type": "execute_result"
    }
   ],
   "source": [
    "a=5+4j\n",
    "type(a)"
   ]
  },
  {
   "cell_type": "markdown",
   "id": "a8698814-681d-4392-8c21-0610427364b8",
   "metadata": {},
   "source": [
    "Q7. What is the correct way to declare a variable named age and assign the value 25 to it?\n",
    "Ans. The correct way to declare a variable named age and assign the value 25 to it in Python is:"
   ]
  },
  {
   "cell_type": "code",
   "execution_count": 5,
   "id": "48b1a2c2-8c26-4d8e-9d20-4098672bf74f",
   "metadata": {},
   "outputs": [],
   "source": [
    "a = 10"
   ]
  },
  {
   "cell_type": "markdown",
   "id": "587b198a-689e-46cb-83cb-75cf2a67287f",
   "metadata": {},
   "source": [
    "Q8. Declare a variable named price and assign the value 9.99 to it. What data type does this variable\n",
    "belong to?"
   ]
  },
  {
   "cell_type": "code",
   "execution_count": 6,
   "id": "e3f40fc6-0b80-4a70-a6dc-49579183ee6b",
   "metadata": {},
   "outputs": [
    {
     "data": {
      "text/plain": [
       "float"
      ]
     },
     "execution_count": 6,
     "metadata": {},
     "output_type": "execute_result"
    }
   ],
   "source": [
    "price=9.99\n",
    "type(price)"
   ]
  },
  {
   "cell_type": "markdown",
   "id": "e7b3bce1-22f6-4246-a25b-4dc79193fa4b",
   "metadata": {},
   "source": [
    "Q9. Create a variable named name and assign your full name to it as a string. How would you print the\n",
    "value of this variable?"
   ]
  },
  {
   "cell_type": "code",
   "execution_count": 7,
   "id": "c7789ef9-af5d-443e-b91c-2c3aeb8d00fd",
   "metadata": {},
   "outputs": [
    {
     "name": "stdout",
     "output_type": "stream",
     "text": [
      "Nishant Sharma\n"
     ]
    }
   ],
   "source": [
    "name=\"Nishant Sharma\"\n",
    "print(name)"
   ]
  },
  {
   "cell_type": "markdown",
   "id": "2b0eabba-9dd8-40dd-8d28-23906fec871d",
   "metadata": {},
   "source": [
    "Q10. Given the string \"Hello, World!\", extract the substring \"World\".\n",
    "Ans. "
   ]
  },
  {
   "cell_type": "code",
   "execution_count": null,
   "id": "a6d2aa67-39c4-466a-ab0f-09cbac173c59",
   "metadata": {},
   "outputs": [],
   "source": [
    "str= \"Hello, World!\"\n",
    "str[7"
   ]
  }
 ],
 "metadata": {
  "kernelspec": {
   "display_name": "Python 3 (ipykernel)",
   "language": "python",
   "name": "python3"
  },
  "language_info": {
   "codemirror_mode": {
    "name": "ipython",
    "version": 3
   },
   "file_extension": ".py",
   "mimetype": "text/x-python",
   "name": "python",
   "nbconvert_exporter": "python",
   "pygments_lexer": "ipython3",
   "version": "3.10.8"
  }
 },
 "nbformat": 4,
 "nbformat_minor": 5
}
